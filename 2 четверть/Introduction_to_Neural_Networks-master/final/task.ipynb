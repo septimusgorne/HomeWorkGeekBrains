{
 "cells": [
  {
   "cell_type": "markdown",
   "id": "b4b767ee-88c7-42af-a1f2-e4e2e0e45f79",
   "metadata": {},
   "source": [
    "# Урок 8. GAN\n",
    "\n",
    "Обучите нейронную сеть любой архитектуры, которой не было на курсе, либо нейронную сеть разобранной архитектуры, но на том датасете, которого не было на уроках. Сделайте анализ того, что вам помогло в улучшения работы нейронной сети "
   ]
  },
  {
   "cell_type": "code",
   "execution_count": null,
   "id": "dc55b5e6-e784-4a99-a7c8-bbe4fecb774b",
   "metadata": {},
   "outputs": [],
   "source": [
    "import numpy as np\n",
    "import os\n",
    "import sys\n",
    "import matplotlib.pyplot as plt\n",
    "import pandas as pd\n",
    "import seaborn as sns\n",
    "import IPython\n",
    "import tensorflow as tf\n",
    "from tensorflow import keras\n",
    "from tensorflow.keras.layers import Conv2D, MaxPooling2D, Dropout, Flatten, Dense\n",
    "\n",
    "shape = 28\n",
    "def preprocess_images(imgs, shape=28):\n",
    "    sample_img = imgs if len(imgs.shape) == 2 else imgs[0]\n",
    "    assert sample_img.shape in [(shape, shape, 1), (shape, shape)], sample_img.shape # 28x28 и только 1 канал\n",
    "    return imgs / 255.0"
   ]
  },
  {
   "cell_type": "markdown",
   "id": "ad8a96e8-3169-48d9-bf0d-0bf55bf6dfe3",
   "metadata": {},
   "source": [
    "# Подготовим данные"
   ]
  },
  {
   "cell_type": "code",
   "execution_count": 2,
   "id": "378002a3-691a-4620-a297-cc276ac035d5",
   "metadata": {},
   "outputs": [],
   "source": [
    "(train_images, train_labels), (test_images, test_labels) = keras.datasets.mnist.load_data()\n",
    "\n",
    "train_images = train_images.reshape(train_images.shape[0], shape, shape, 1)\n",
    "test_images = test_images.reshape(test_images.shape[0], shape, shape, 1)\n",
    "\n",
    "train_images = preprocess_images(train_images, shape=shape)\n",
    "test_images = preprocess_images(test_images, shape=shape)"
   ]
  },
  {
   "cell_type": "markdown",
   "id": "9407210a-f931-4e65-a540-6917b199390d",
   "metadata": {},
   "source": [
    "# Создаём слои модели"
   ]
  },
  {
   "cell_type": "code",
   "execution_count": 3,
   "id": "51ffe655-4870-4bb6-9cae-200cfc4219a3",
   "metadata": {},
   "outputs": [],
   "source": [
    "model = keras.Sequential()\n",
    "model.add(Conv2D(32, kernel_size=(3, 3), activation='relu', input_shape=(shape, shape, 1)))\n",
    "model.add(Conv2D(64, (3, 3), activation='relu'))\n",
    "model.add(MaxPooling2D(pool_size=(2, 2)))\n",
    "model.add(Dropout(0.25))\n",
    "model.add(Flatten())\n",
    "model.add(Dense(128, activation='relu'))\n",
    "model.add(Dropout(0.5))\n",
    "model.add(Dense(10, activation='softmax'))\n",
    "\n",
    "model.compile(optimizer='adam', \n",
    "              loss='sparse_categorical_crossentropy',\n",
    "              metrics=['accuracy'])"
   ]
  },
  {
   "cell_type": "markdown",
   "id": "521c845b-ee88-4c2a-a86a-a3992d184688",
   "metadata": {},
   "source": [
    "# Тренируем модель"
   ]
  },
  {
   "cell_type": "code",
   "execution_count": 4,
   "id": "c5d2f4ad-9181-47df-84e8-ec1557a473f2",
   "metadata": {},
   "outputs": [
    {
     "name": "stdout",
     "output_type": "stream",
     "text": [
      "Epoch 1/5\n",
      "1875/1875 [==============================] - 29s 15ms/step - loss: 0.1998 - accuracy: 0.9397\n",
      "Epoch 2/5\n",
      "1875/1875 [==============================] - 27s 15ms/step - loss: 0.0854 - accuracy: 0.9747\n",
      "Epoch 3/5\n",
      "1875/1875 [==============================] - 27s 14ms/step - loss: 0.0668 - accuracy: 0.9802\n",
      "Epoch 4/5\n",
      "1875/1875 [==============================] - 27s 15ms/step - loss: 0.0547 - accuracy: 0.9834\n",
      "Epoch 5/5\n",
      "1875/1875 [==============================] - 28s 15ms/step - loss: 0.0449 - accuracy: 0.9864\n",
      "313/313 [==============================] - 1s 4ms/step - loss: 0.0354 - accuracy: 0.9893\n",
      "Точность: 0.989300012588501\n"
     ]
    }
   ],
   "source": [
    "model.fit(train_images, train_labels, epochs=5)\n",
    "\n",
    "test_loss, test_acc = model.evaluate(test_images, test_labels)\n",
    "\n",
    "print(f'Точность: {test_acc}')"
   ]
  },
  {
   "cell_type": "markdown",
   "id": "b1a58228-b1ce-4a0c-b1b1-14b2b9db5aec",
   "metadata": {},
   "source": [
    "# Делаем предсказания"
   ]
  },
  {
   "cell_type": "code",
   "execution_count": 5,
   "id": "cc0290d8-f922-4a82-9a51-58438f136ca4",
   "metadata": {},
   "outputs": [
    {
     "name": "stdout",
     "output_type": "stream",
     "text": [
      "313/313 [==============================] - 1s 3ms/step\n"
     ]
    },
    {
     "data": {
      "image/png": "[encoded data removed]",
      "text/plain": [
       "<Figure size 1000x1000 with 4 Axes>"
      ]
     },
     "metadata": {},
     "output_type": "display_data"
    }
   ],
   "source": [
    "preds = model.predict(test_images)\n",
    "\n",
    "plt.figure(figsize=[10, 10])\n",
    "\n",
    "for i in range(1, 5):\n",
    "    n = i-1\n",
    "    plt.subplot(2, 4, i)\n",
    "    plt.imshow(test_images[n].reshape(28, 28), cmap=plt.cm.binary)\n",
    "    plt.title(\"Пред: \" + str(np.argmax(preds[n], axis=0)), size=20)\n",
    "    plt.axis('off')\n",
    "\n",
    "plt.show()"
   ]
  }
 ],
 "metadata": {
  "kernelspec": {
   "display_name": "Python 3 (ipykernel)",
   "language": "python",
   "name": "python3"
  },
  "language_info": {
   "codemirror_mode": {
    "name": "ipython",
    "version": 3
   },
   "file_extension": ".py",
   "mimetype": "text/x-python",
   "name": "python",
   "nbconvert_exporter": "python",
   "pygments_lexer": "ipython3",
   "version": "3.9.2"
  }
 },
 "nbformat": 4,
 "nbformat_minor": 5
}
