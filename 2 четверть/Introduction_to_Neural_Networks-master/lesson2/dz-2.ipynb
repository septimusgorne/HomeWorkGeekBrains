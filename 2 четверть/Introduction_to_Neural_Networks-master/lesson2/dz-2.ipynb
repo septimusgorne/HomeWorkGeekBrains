{
 "cells": [
  {
   "cell_type": "markdown",
   "metadata": {},
   "source": [
    "# Введение в искусственные нейронные сети\n",
    "# Урок 3. Keras"
   ]
  },
  {
   "cell_type": "markdown",
   "metadata": {},
   "source": [
    "## Практическое задание\n",
    "\n",
    "<ol>\n",
    "    <li>Попробуйте обучить нейронную сеть на Keras с другими параметрами. \n",
    "        Опишите в комментарии к уроку - какой результата вы добились от нейросети? Что помогло вам улучшить ее точность?</li>\n",
    "</ol>"
   ]
  },
  {
   "cell_type": "code",
   "execution_count": 36,
   "metadata": {},
   "outputs": [
    {
     "name": "stdout",
     "output_type": "stream",
     "text": [
      "Epoch 1/5\n",
      "60000/60000 [==============================] - 3s 51us/step - loss: 0.3326 - accuracy: 0.8989\n",
      "Epoch 2/5\n",
      "60000/60000 [==============================] - 3s 50us/step - loss: 0.1670 - accuracy: 0.9488\n",
      "Epoch 3/5\n",
      "60000/60000 [==============================] - 3s 50us/step - loss: 0.1279 - accuracy: 0.9605\n",
      "Epoch 4/5\n",
      "60000/60000 [==============================] - 3s 51us/step - loss: 0.1078 - accuracy: 0.9670\n",
      "Epoch 5/5\n",
      "60000/60000 [==============================] - 3s 51us/step - loss: 0.0940 - accuracy: 0.9707\n",
      "10000/10000 [==============================] - 0s 26us/step\n",
      "[7 2 1 0 4]\n",
      "[7 2 1 0 4]\n"
     ]
    }
   ],
   "source": [
    "# The full neural network code!\n",
    "###############################\n",
    "import numpy as np\n",
    "import mnist\n",
    "from keras.models import Sequential\n",
    "from keras.layers import Dense\n",
    "from keras.utils import to_categorical\n",
    "from keras.optimizers import SGD\n",
    "\n",
    "train_images = mnist.train_images()\n",
    "train_labels = mnist.train_labels()\n",
    "test_images = mnist.test_images()\n",
    "test_labels = mnist.test_labels()\n",
    "\n",
    "# Normalize the images.\n",
    "train_images = (train_images / 255) - 0.5\n",
    "test_images = (test_images / 255) - 0.5\n",
    "\n",
    "# Flatten the images.\n",
    "train_images = train_images.reshape((-1, 784))\n",
    "test_images = test_images.reshape((-1, 784))\n",
    "\n",
    "# Build the model.\n",
    "model = Sequential([\n",
    "  Dense(64, activation='relu', input_shape=(784,)),\n",
    "  Dense(64, activation='relu'),\n",
    "  Dense(10, activation='softmax'),\n",
    "])\n",
    "\n",
    "sgd = SGD(lr=0.01, decay=1e-6, momentum=0.9, nesterov=True)\n",
    "# Compile the model.\n",
    "model.compile(\n",
    "  optimizer=sgd,\n",
    "  loss='categorical_crossentropy',\n",
    "  metrics=['accuracy'],\n",
    ")\n",
    "\n",
    "# Train the model.\n",
    "model.fit(\n",
    "  train_images,\n",
    "  to_categorical(train_labels),\n",
    "  epochs=5,\n",
    "  batch_size=34,\n",
    ")\n",
    "\n",
    "# Evaluate the model.\n",
    "model.evaluate(\n",
    "  test_images,\n",
    "  to_categorical(test_labels)\n",
    ")\n",
    "\n",
    "# Save the model to disk.\n",
    "model.save_weights('model.h5')\n",
    "\n",
    "# Load the model from disk later using:\n",
    "# model.load_weights('model.h5')\n",
    "\n",
    "# Predict on the first 5 test images.\n",
    "predictions = model.predict(test_images[:5])\n",
    "\n",
    "# Print our model's predictions.\n",
    "print(np.argmax(predictions, axis=1)) # [7, 2, 1, 0, 4]\n",
    "\n",
    "# Check our predictions against the ground truths.\n",
    "print(test_labels[:5]) # [7, 2, 1, 0, 4]"
   ]
  },
  {
   "cell_type": "markdown",
   "metadata": {},
   "source": [
    "1. Попробовал раличные функции активации tanh, sigmoid, hard_sigmoid. Качество практически не изменилось.  \n",
    "С функцией активации exponential accuracy стало 0.0987.\n",
    "2. Количество нейронов в слое влияет на качество.\n",
    "3. Изменение параметра optimizer на SGD, время обучения сокращается на 40 секунд, а качество не изменяется.  \n",
    "optimizer на Adamax время обучения меньше, но после завершения 5 эпохи, качество становится:  \n",
    "accuracy: 0.96\n",
    "4. Количество эпох вляет на точность предсказания модели\n",
    "5. batch_size также влияет на точность нейронной сети"
   ]
  },
  {
   "cell_type": "markdown",
   "metadata": {},
   "source": [
    "#### 2. Поработайте с документацией Keras."
   ]
  },
  {
   "cell_type": "markdown",
   "metadata": {},
   "source": [
    "1. get_layer(name=None, index=None)\n",
    "Используется для того, чтобы извлечь необходмый слой из нейронной сети. Это можно применить, например, если нам необходимо посмотреть выход с какого-нибудь внутреннего слоя. Или мы хотим переместь какой-то слой из одной модели в другую.\n",
    "2. У Keras есть Text Preprocessing(Предварительная обработка текста)  \n",
    "Слова называются токенами, а процесс разбиения текста на токены называется токенизацией. \n",
    "Методы Keras для подготовки текстовых данных для глубокого обучения:  \n",
    "  __Tokenizer__  \n",
    "  Позволяет векторизовать текс, превращая каждый текст в последовательность целых чисел (каждое целое число является индексом токена в словаре) или в вектор, в котором коэффициент для каждого токена может быть двоичным на основе количества слов.  \n",
    " После подбора токенизатор предоставляет 4 атрибута, которые вы можете использовать для запроса того, что вы узнали о ваших документах:\n",
    "    word_counts: Словарь слов и их количество.  \n",
    "    word_docs: Словарь слов и сколько документов каждый появился в.  \n",
    "    word_index: Словарь слов и их уникально назначенных целых чисел.  \n",
    "    DOCUMENT_COUNT: Целое число от общего числа документов, которые были использованы для размещения токенизатора.  \n",
    "      \n",
    "  __hashing_trick__  \n",
    "  Преобразование односторонней хеш-функцией слов в целые числа.\n",
    "\n",
    "  __one_hot__  \n",
    "  функция является оберткой для функции hashing_trick (). Функция возвращает целочисленную версию документа. Использование хеш-функции означает, что возможны коллизии, и не всем словам будут присвоены уникальные целочисленные значения.\n",
    "  \n",
    "  __text_to_word_sequence__\n",
    "разбивает текст на список слов.  \n",
    "По умолчанию эта функция автоматически делает 3 вещи:\n",
    "   1. Разбивает слова по пробелам (split = »«).  \n",
    "   2. Отфильтровывает пунктуацию (filters = ’!» # $% & Amp; () * +, -. /:; & Lt; = & gt;? @ [\\\\] ^ _ `{|} ~ \\ t \\ n’).  \n",
    "   3. Преобразует текст в нижний регистр (нижний = True).  \n"
   ]
  },
  {
   "cell_type": "markdown",
   "metadata": {},
   "source": []
  }
 ],
 "metadata": {
  "kernelspec": {
   "display_name": "Python 3",
   "language": "python",
   "name": "python3"
  },
  "language_info": {
   "codemirror_mode": {
    "name": "ipython",
    "version": 3
   },
   "file_extension": ".py",
   "mimetype": "text/x-python",
   "name": "python",
   "nbconvert_exporter": "python",
   "pygments_lexer": "ipython3",
   "version": "3.7.3"
  }
 },
 "nbformat": 4,
 "nbformat_minor": 2
}
