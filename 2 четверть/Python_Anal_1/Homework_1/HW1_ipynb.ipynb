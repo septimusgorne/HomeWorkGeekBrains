{
  "metadata": {
    "kernelspec": {
      "name": "python",
      "display_name": "Python (Pyodide)",
      "language": "python"
    },
    "language_info": {
      "codemirror_mode": {
        "name": "python",
        "version": 3
      },
      "file_extension": ".py",
      "mimetype": "text/x-python",
      "name": "python",
      "nbconvert_exporter": "python",
      "pygments_lexer": "ipython3",
      "version": "3.8"
    },
    "colab": {
      "provenance": []
    }
  },
  "nbformat_minor": 5,
  "nbformat": 4,
  "cells": [
    {
      "cell_type": "code",
      "source": [
        "import numpy as np\n",
        "import pandas as pd\n",
        "from scipy import stats\n",
        "import datetime"
      ],
      "metadata": {
        "trusted": true,
        "id": "9c589a2f-a1b1-4336-8f6a-95e64b500a0e"
      },
      "execution_count": null,
      "outputs": [],
      "id": "9c589a2f-a1b1-4336-8f6a-95e64b500a0e"
    },
    {
      "cell_type": "markdown",
      "source": [
        "<h2>Задача 1<h2>\n",
        "<div class =\"alert alert-block alert-success\">\n",
        "<b><i>На складе лежат разные фрукты в разном количестве. Нужно написать функцию, которая на вход принимает любое количество названий фруктов и их количество, а возвращает общее количество фруктов на складе.<i/></b>\n",
        "    </div>"
      ],
      "metadata": {
        "id": "629fa9bf-0efa-466d-98c3-962278a76bfb"
      },
      "id": "629fa9bf-0efa-466d-98c3-962278a76bfb"
    },
    {
      "cell_type": "code",
      "source": [
        "def total_fruits(**kwards):\n",
        "    total = 0\n",
        "    for amount in kwards.values():\n",
        "        total += amount\n",
        "    return total"
      ],
      "metadata": {
        "trusted": true,
        "id": "63ffba70-5008-4de9-ab1a-8944134b9709"
      },
      "execution_count": null,
      "outputs": [],
      "id": "63ffba70-5008-4de9-ab1a-8944134b9709"
    },
    {
      "cell_type": "markdown",
      "source": [
        "Всего фруктов:"
      ],
      "metadata": {
        "id": "64434dd2-d914-4d9f-9d03-731d75a1a321"
      },
      "id": "64434dd2-d914-4d9f-9d03-731d75a1a321"
    },
    {
      "cell_type": "code",
      "source": [
        "total_fruits(banana=5, mango=7, apple=8)"
      ],
      "metadata": {
        "trusted": true,
        "id": "c9e96c12-6e59-4c4a-b22b-90f0eb389aec",
        "outputId": "7fce19d4-a942-4e1c-b393-50baa3a988a8"
      },
      "execution_count": null,
      "outputs": [
        {
          "execution_count": 3,
          "output_type": "execute_result",
          "data": {
            "text/plain": "20"
          },
          "metadata": {}
        }
      ],
      "id": "c9e96c12-6e59-4c4a-b22b-90f0eb389aec"
    },
    {
      "cell_type": "markdown",
      "source": [
        "<h2>Задача 2<h2>\n",
        "\n",
        "<div class =\"alert alert-block alert-success\">\n",
        "<b><i>Дан список с затратами на рекламу. Но в данных есть ошибки, некоторые затраты имеют отрицательную величину. Удалите такие значения из списка и посчитайте суммарные затраты.\n",
        "<br>Используйте list comprehensions<i/></b>\n",
        "    </div>"
      ],
      "metadata": {
        "id": "d0c94c1e-e1b8-4b4a-9c76-f8b94e154943"
      },
      "id": "d0c94c1e-e1b8-4b4a-9c76-f8b94e154943"
    },
    {
      "cell_type": "code",
      "source": [
        "Advertising_costs=np.array([100, 125, -90, 345, 655, -1, 0, 200])\n",
        "\n",
        "sum([i for i in Advertising_costs if i > 0])"
      ],
      "metadata": {
        "trusted": true,
        "id": "13347a20-5f60-45cc-a4db-90a31b3f8de5",
        "outputId": "a85de477-4184-41bf-854a-ff171abd68ab"
      },
      "execution_count": null,
      "outputs": [
        {
          "execution_count": 4,
          "output_type": "execute_result",
          "data": {
            "text/plain": "1425"
          },
          "metadata": {}
        }
      ],
      "id": "13347a20-5f60-45cc-a4db-90a31b3f8de5"
    },
    {
      "cell_type": "markdown",
      "source": [
        "<h2>Задача 3<h2>\n",
        "<h3>Подзадача 1<h3>\n",
        "\n",
        "<div class =\"alert alert-block alert-success\">\n",
        "<b><i>Найдите, какая выручка у компании в ноябре.<br>Используйте list comprehensions.<i/></b>\n",
        "    </div>"
      ],
      "metadata": {
        "id": "8065fa67-9ec7-4151-9d5f-08cd46636906"
      },
      "id": "8065fa67-9ec7-4151-9d5f-08cd46636906"
    },
    {
      "cell_type": "code",
      "source": [
        "Purchase_date=np.array(['2021-09-14', '2021-12-15', '2021-09-08', '2021-12-05', '2021-10-09', '2021-09-30', '2021-12-22', '2021-11-29', '2021-12-24', '2021-11-26', '2021-10-27', '2021-12-18', '2021-11-09', '2021-11-23', '2021-09-27', '2021-10-02', '2021-12-27', '2021-09-20', '2021-12-13', '2021-11-01', '2021-11-09', '2021-12-06', '2021-12-08', '2021-10-09', '2021-10-31', '2021-09-30', '2021-11-09', '2021-12-13', '2021-10-26', '2021-12-09'])\n",
        "Purchase_amounts=np.array([1270, 8413, 9028, 3703, 5739, 4095, 295, 4944, 5723, 3701, 4471, 651, 7037, 4274, 6275, 4988, 6930, 2971, 6592, 2004, 2822, 519, 3406, 2732, 5015, 2008, 316, 6333, 5700, 2887])\n",
        "\n",
        "print(sum([m for d, m in zip(Purchase_date, Purchase_amounts) if d[5:7] == \"11\"]))"
      ],
      "metadata": {
        "trusted": true,
        "id": "12aacf48-c507-4d96-b407-6fcdcbbe1e6a",
        "outputId": "8d2b4e4f-e811-4369-a51e-f891e0f5d455"
      },
      "execution_count": null,
      "outputs": [
        {
          "name": "stdout",
          "text": "25098\n",
          "output_type": "stream"
        }
      ],
      "id": "12aacf48-c507-4d96-b407-6fcdcbbe1e6a"
    },
    {
      "cell_type": "markdown",
      "source": [
        "<h2>Задача 3<h2>\n",
        "<h3>Подзадача 2<h3>\n",
        "\n",
        "<div class =\"alert alert-block alert-success\">\n",
        "<b><i>Найдите выручку компании в зависимости от месяца.\n",
        "<br>Для этого напишите функцию, которая на вход принимает список с датами и список с выручкой, а на выходе словарь, где ключи - это месяцы, а значения - это выручка.\n",
        "<br>Используйте аннотирование типов.<i/></b>\n",
        "    </div>"
      ],
      "metadata": {
        "id": "f82043d1-986a-432c-89ed-809ff23fba61"
      },
      "id": "f82043d1-986a-432c-89ed-809ff23fba61"
    },
    {
      "cell_type": "code",
      "source": [
        "purchase_dates = ['2021-09-14', '2021-12-15', '2021-09-08', '2021-12-05', '2021-10-09', '2021-09-30', '2021-12-22', '2021-11-29', '2021-12-24', '2021-11-26', '2021-10-27', '2021-12-18', '2021-11-09', '2021-11-23', '2021-09-27', '2021-10-02', '2021-12-27', '2021-09-20', '2021-12-13', '2021-11-01', '2021-11-09', '2021-12-06', '2021-12-08', '2021-10-09', '2021-10-31', '2021-09-30', '2021-11-09', '2021-12-13', '2021-10-26', '2021-12-09']\n",
        "purchase_amounts = [1270, 8413, 9028, 3703, 5739, 4095, 295, 4944, 5723, 3701, 4471, 651, 7037, 4274, 6275, 4988, 6930, 2971, 6592, 2004, 2822, 519, 3406, 2732, 5015, 2008, 316, 6333, 5700, 2887]\n",
        "\n",
        "[purchase_amounts[i] for i in range(len(purchase_dates)) if purchase_dates[i].split('-')[1] == '11']"
      ],
      "metadata": {
        "trusted": true,
        "id": "04e399a3-dede-4bd0-8622-2a7df5797e40",
        "outputId": "c89062f1-8ca2-4eb1-9ea4-93bcf1c87f10"
      },
      "execution_count": null,
      "outputs": [
        {
          "execution_count": 6,
          "output_type": "execute_result",
          "data": {
            "text/plain": "[4944, 3701, 7037, 4274, 2004, 2822, 316]"
          },
          "metadata": {}
        }
      ],
      "id": "04e399a3-dede-4bd0-8622-2a7df5797e40"
    },
    {
      "cell_type": "code",
      "source": [
        "def calc_quantity_per_month(purchase_dates: list, purchase_amounts: list) -> dict:\n",
        "    quantity_per_month = {}\n",
        "    \n",
        "    for i in range(len(purchase_dates)):\n",
        "        month = purchase_dates[i].split('-')[1]\n",
        "        if month in quantity_per_month.keys():\n",
        "            quantity_per_month[month] += purchase_amounts[i]\n",
        "        else:\n",
        "             quantity_per_month[month] = purchase_amounts[i]\n",
        "        return quantity_per_month\n",
        "calc_quantity_per_month(purchase_dates, purchase_amounts)"
      ],
      "metadata": {
        "trusted": true,
        "id": "64b5e63b-8c59-41ad-89bf-65e48cc47d5a",
        "outputId": "c66c02e4-6f41-44dd-a767-1bf2f17be916"
      },
      "execution_count": null,
      "outputs": [
        {
          "execution_count": 7,
          "output_type": "execute_result",
          "data": {
            "text/plain": "{'09': 1270}"
          },
          "metadata": {}
        }
      ],
      "id": "64b5e63b-8c59-41ad-89bf-65e48cc47d5a"
    }
  ]
}