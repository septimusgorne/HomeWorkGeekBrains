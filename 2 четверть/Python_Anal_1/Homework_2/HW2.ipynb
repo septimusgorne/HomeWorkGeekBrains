{
  "metadata": {
    "language_info": {
      "name": ""
    },
    "kernelspec": {
      "name": "python",
      "display_name": "Python (Pyodide)",
      "language": "python"
    },
    "colab": {
      "provenance": []
    }
  },
  "nbformat_minor": 0,
  "nbformat": 4,
  "cells": [
    {
      "cell_type": "markdown",
      "source": [
        "Условие 1: 1 задача\n",
        "Скачать данные по ссылке https://www.kaggle.com/datasets/shivachandel/kc-house-data\n",
        "Считать данные с помощью pandas\n",
        "Вывести на экран первые 5 строк\n",
        "Посмотреть на описание признаков и на их содержание\n",
        "\n",
        "Условие 2: 2 задача\n",
        "Проведите первичный анализ данных\n",
        "Изучите типы данных\n",
        "Найдите количество пропущенных ячеек в данных\n",
        "Посчитайте основные статистики по всем признакам и поизучайте их\n",
        "Пишите выводы\n",
        "\n",
        "Условие 3: 3 задача\n",
        "Ответьте на несколько вопросов\n",
        "3.1 В каком диапазоне изменяются стоимости недвижимости?\n",
        "3.2 Какую долю в среднем занимают жилая площадь от всей площади по всем домам?\n",
        "3.3 Как много домов с разными этажами в данных?\n",
        "3.4 Насколько хорошие состояния у домов в данных?\n",
        "3.5 Найдите года, когда построили первый дом, когда построили последний дом в данных?\n",
        "\n",
        "Условие 4: 4 задача\n",
        "Ответьте на несколько вопросов\n",
        "4.1 Сколько в среднем стоят дома, у которых 2 спальни?\n",
        "4.2 Какая в среднем общая площадь домов, у которых стоимость больше 600 000?\n",
        "4.3 Как много домов коснулся ремонт?\n",
        "4.4 Насколько в среднем стоимость домов с оценкой grade домов выше 10 отличается от стоимости домов с оценкой grade меньше 4?\n",
        "\n",
        "Условие 5: 5 задача\n",
        "Ответьте на несколько вопросов\n",
        "5.1 Выберите дом клиенту\n",
        "Клиент хочет дом с видом на набережную, как минимум с тремя ванными и с подвалом. Сколько вариантов есть у клиента?\n",
        "5.2 Выберите дом клиенту\n",
        "Клиент хочет дом либо с очень красивым видом из окна, либо с видом на набережную, в очень хорошем состоянии и год постройки не меньше 1980 года. В какой ценовом диапазоне будут дома?\n",
        "5.3 Выберите дом клиенту\n",
        "Клиент хочет дом без подвала, с двумя этажами, стоимостью до 150000. Какая оценка по состоянию у таких домов в среднем?"
      ],
      "metadata": {
        "id": "43axo5JAbwqn"
      }
    },
    {
      "cell_type": "code",
      "source": [
        "import pandas as pd"
      ],
      "metadata": {
        "trusted": true,
        "id": "ObcdapYGbwqs"
      },
      "execution_count": null,
      "outputs": []
    },
    {
      "cell_type": "code",
      "source": [
        "df = pd.read_csv('kc-house-data.csv')"
      ],
      "metadata": {
        "trusted": true,
        "id": "kPJcODodbwqu"
      },
      "execution_count": null,
      "outputs": []
    },
    {
      "cell_type": "code",
      "source": [
        "df"
      ],
      "metadata": {
        "trusted": true,
        "id": "q48pHughbwqv"
      },
      "execution_count": null,
      "outputs": []
    },
    {
      "cell_type": "code",
      "source": [
        "df.head()"
      ],
      "metadata": {
        "id": "Cmzb5clgbwqw"
      },
      "execution_count": null,
      "outputs": []
    },
    {
      "cell_type": "code",
      "source": [
        "df.info()"
      ],
      "metadata": {
        "trusted": true,
        "id": "8Rwmm2fZbwqy"
      },
      "execution_count": null,
      "outputs": []
    },
    {
      "cell_type": "code",
      "source": [
        "df.describe()"
      ],
      "metadata": {
        "trusted": true,
        "id": "vbXl5v3jbwqz"
      },
      "execution_count": null,
      "outputs": []
    },
    {
      "cell_type": "markdown",
      "source": [
        "Условие 3: 3 задача\n",
        "Ответьте на несколько вопросов\n",
        "3.1 В каком диапазоне изменяются стоимости недвижимости?\n",
        "3.2 Какую долю в среднем занимают жилая площадь от всей площади по всем домам?\n",
        "3.3 Как много домов с разными этажами в данных?\n",
        "3.4 Насколько хорошие состояния у домов в данных?\n",
        "3.5 Найдите года, когда построили первый дом, когда построили последний дом в данных?"
      ],
      "metadata": {
        "id": "EZcS_P9abwq0"
      }
    },
    {
      "cell_type": "code",
      "source": [
        "df['price'].min(), df['price'].max()"
      ],
      "metadata": {
        "id": "-nR838AZbwq1"
      },
      "execution_count": null,
      "outputs": []
    },
    {
      "cell_type": "code",
      "source": [
        "df['sqft_living'].mean()/df['sqft_lot'].mean() * 100"
      ],
      "metadata": {
        "trusted": true,
        "id": "MGezpCb6bwq2"
      },
      "execution_count": null,
      "outputs": []
    },
    {
      "cell_type": "code",
      "source": [
        "df['floors'].value_counts()"
      ],
      "metadata": {
        "id": "tqccpf1Kbwq3"
      },
      "execution_count": null,
      "outputs": []
    },
    {
      "cell_type": "code",
      "source": [
        "df['condition'].value_counts()"
      ],
      "metadata": {
        "id": "B68J7HFabwq4"
      },
      "execution_count": null,
      "outputs": []
    },
    {
      "cell_type": "code",
      "source": [
        "df['yr_built'].min(), df['yr_built'].max()"
      ],
      "metadata": {
        "id": "BLRtvlsubwq5"
      },
      "execution_count": null,
      "outputs": []
    },
    {
      "cell_type": "markdown",
      "source": [
        "Условие 4: 4 задача\n",
        "Ответьте на несколько вопросов\n",
        "4.1 Сколько в среднем стоят дома, у которых 2 спальни?\n",
        "4.2 Какая в среднем общая площадь домов, у которых стоимость больше 600 000?\n",
        "4.3 Как много домов коснулся ремонт?\n",
        "4.4 Насколько в среднем стоимость домов с оценкой grade домов выше 10 отличается от стоимости домов с оценкой grade меньше 4?"
      ],
      "metadata": {
        "id": "pxEGt8f2bwq5"
      }
    },
    {
      "cell_type": "code",
      "source": [
        "df[df['bedrooms'] ** 2]['price'].mean()"
      ],
      "metadata": {
        "id": "CarXdS3Dbwq6"
      },
      "execution_count": null,
      "outputs": []
    },
    {
      "cell_type": "code",
      "source": [
        "df[df['price'] > 600000]['sqft_lot'].mean()"
      ],
      "metadata": {
        "id": "fkeLLUr3bwq7"
      },
      "execution_count": null,
      "outputs": []
    },
    {
      "cell_type": "code",
      "source": [
        "df[(df['yr_rnovated'] != 0)].shape[0]"
      ],
      "metadata": {
        "id": "2DRpTO-obwq7"
      },
      "execution_count": null,
      "outputs": []
    },
    {
      "cell_type": "code",
      "source": [
        "price_10 = df[df['grade'] > 10]['price'].mean()\n",
        "price_10"
      ],
      "metadata": {
        "id": "-j7xBp5Dbwq8"
      },
      "execution_count": null,
      "outputs": []
    },
    {
      "cell_type": "code",
      "source": [
        "price_4 = df[df['grade'] < 4]['price'].mean()\n",
        "price_4"
      ],
      "metadata": {
        "id": "W2QODcpKbwq9"
      },
      "execution_count": null,
      "outputs": []
    },
    {
      "cell_type": "code",
      "source": [
        "price_10 - price_4"
      ],
      "metadata": {
        "id": "M7RB5gI0bwq9"
      },
      "execution_count": null,
      "outputs": []
    },
    {
      "cell_type": "markdown",
      "source": [
        "Условие 5: 5 задача\n",
        "Ответьте на несколько вопросов\n",
        "5.1 Выберите дом клиенту\n",
        "Клиент хочет дом с видом на набережную, как минимум с тремя ванными и с подвалом. Сколько вариантов есть у клиента?\n",
        "5.2 Выберите дом клиенту\n",
        "Клиент хочет дом либо с очень красивым видом из окна, либо с видом на набережную, в очень хорошем состоянии и год постройки не меньше 1980 года. В какой ценовом диапазоне будут дома?\n",
        "5.3 Выберите дом клиенту\n",
        "Клиент хочет дом без подвала, с двумя этажами, стоимостью до 150000. Какая оценка по состоянию у таких домов в среднем?"
      ],
      "metadata": {
        "id": "FP9LQFF-bwq-"
      }
    },
    {
      "cell_type": "code",
      "source": [
        "df[(df['waterfront'] == 1) & (df['bathrooms'] == 1) & (df['sqft_basement'] == 1)].shape[0]"
      ],
      "metadata": {
        "id": "GfVPCE4ybwq-"
      },
      "execution_count": null,
      "outputs": []
    },
    {
      "cell_type": "code",
      "source": [
        "benchmark = (df['view'] == 4) | (df['waterfront'] == 1) & (df['condition'] == 5) & (df['yr_built'] >= 1980)"
      ],
      "metadata": {
        "id": "FSeykMapbwq_"
      },
      "execution_count": null,
      "outputs": []
    },
    {
      "cell_type": "code",
      "source": [
        "client_choice = df[benchmark]"
      ],
      "metadata": {
        "id": "RkXcASDSbwq_"
      },
      "execution_count": null,
      "outputs": []
    },
    {
      "cell_type": "code",
      "source": [
        "client_choice"
      ],
      "metadata": {
        "id": "RFFEv61obwrA"
      },
      "execution_count": null,
      "outputs": []
    },
    {
      "cell_type": "code",
      "source": [
        "client_choice['price'].min(), client_choice['price'].max()"
      ],
      "metadata": {
        "id": "YO4BYsqbbwrA"
      },
      "execution_count": null,
      "outputs": []
    }
  ]
}