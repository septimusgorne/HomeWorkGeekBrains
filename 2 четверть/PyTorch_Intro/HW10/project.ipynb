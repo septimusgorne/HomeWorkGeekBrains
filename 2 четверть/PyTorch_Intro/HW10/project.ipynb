{
 "cells": [
  {
   "cell_type": "markdown",
   "id": "4934d1c8-aaea-47ef-a0ec-b6c0c8500c31",
   "metadata": {},
   "source": [
    "## Практическое задание к уроку № 10 по теме \"Распознавание лиц и эмоций\"."
   ]
  },
  {
   "cell_type": "markdown",
   "id": "f92d348c-bd45-4898-977e-0148758820b3",
   "metadata": {},
   "source": [
    "*Нужно написать приложение, которое будет считывать и выводить кадры с  \n",
    "веб-камеры. В процессе считывания определять что перед камерой находится  \n",
    "человек, задетектировав его лицо на кадре. После этого, человек показывает жесты  \n",
    "руками, а алгоритм должен считать их и определенным образом реагировать на эти  \n",
    "жесты.*"
   ]
  },
  {
   "cell_type": "markdown",
   "id": "70e8a26d-2473-4e08-8883-f4181f166ad1",
   "metadata": {},
   "source": [
    "В данном задании будем использовать библиотеку [mediapipe](https://mediapipe.dev/) для детектирования  \n",
    "лиц и жестов. Суть задания в том, чтобы сначала детектировать лицо пользователя,  \n",
    "а потом детектировать и классифицировать показанный им жест. В mediapipe детектирование  \n",
    "жестов происходит в 2 этапа - сначала непосредственно детектирование, а затем  \n",
    "обнаружение особых точек (landmarks) жеста. Фреймворк выдаёт результат уже второго  \n",
    "этапа, поэтому мы будем работать с этими особыми точками и их координатами, а не  \n",
    "bounding box'ами детектированных жестов. Из-за этого в качестве классификатора  \n",
    "у нас будет обычная логистическая регрессия, а не свёрточная нейронная сеть."
   ]
  },
  {
   "cell_type": "markdown",
   "id": "92730e26-637b-42a5-84d7-2942abc440e3",
   "metadata": {},
   "source": [
    "Загрузим необходимые библиотеки:"
   ]
  },
  {
   "cell_type": "code",
   "execution_count": 1,
   "id": "171d323a-ca3d-4edf-93ae-dd49febee0f4",
   "metadata": {},
   "outputs": [],
   "source": [
    "import cv2\n",
    "import glob\n",
    "from google.protobuf.json_format import MessageToDict\n",
    "import mediapipe as mp\n",
    "import numpy as np\n",
    "import pandas as pd\n",
    "import re\n",
    "from sklearn.linear_model import LogisticRegression\n",
    "from sklearn.metrics import classification_report\n",
    "from sklearn.model_selection import train_test_split\n",
    "from sklearn.preprocessing import MinMaxScaler"
   ]
  },
  {
   "cell_type": "code",
   "execution_count": 2,
   "id": "cf2eae14-381f-47e8-8969-79de89750a38",
   "metadata": {},
   "outputs": [],
   "source": [
    "mp_drawing = mp.solutions.drawing_utils\n",
    "mp_drawing_styles = mp.solutions.drawing_styles\n",
    "mp_face_detection = mp.solutions.face_detection\n",
    "mp_hands = mp.solutions.hands"
   ]
  },
  {
   "cell_type": "markdown",
   "id": "d800415d-cb96-4ce0-8c5d-515649db5ae6",
   "metadata": {},
   "source": [
    "В качестве датасета для распознавания жестов используем один из  \n",
    "датасетов kaggle. (https://www.kaggle.com/datasets/gti-upm/leapgestrecog)  \n",
    "В этом датасете 10 разных людей показывают 10 жестов. Из этих 10 жестов  \n",
    "мы выберем 3, на которые будет реагировать модель. Также возьмём еще 3 жеста,  \n",
    "которые будут принадлежать к классу *разное*, чтобы модель понимала, что кроме  \n",
    "нужных нам жестов, пользователь может показывать и другие, а не причисляла  \n",
    "любой жест к одному из трёх целевых."
   ]
  },
  {
   "cell_type": "markdown",
   "id": "fc9a8f66-f766-41b0-9401-69d73505ec83",
   "metadata": {},
   "source": [
    "Получим необходимые имена файлов, относящиеся к 6 классам:"
   ]
  },
  {
   "cell_type": "code",
   "execution_count": 3,
   "id": "b930aca6-aae3-41f4-aa7e-bfe0b15c8697",
   "metadata": {},
   "outputs": [],
   "source": [
    "files = glob.glob('./leapGestRecog/*/0[13457]*/*') + glob.glob('./leapGestRecog/*/10*/*')"
   ]
  },
  {
   "cell_type": "markdown",
   "id": "40090598-936d-48fe-bc8d-e5fa98c3c1df",
   "metadata": {},
   "source": [
    "Напишем функцию, которая на вход будет принимать особые точки жеста,  \n",
    "а возвращать их масштабированные координаты. При формировании обучающего  \n",
    "датафрейма будем ещё добавлять таргет:"
   ]
  },
  {
   "cell_type": "code",
   "execution_count": 4,
   "id": "5204b1a2-712a-44c9-a0d8-a85704238d9e",
   "metadata": {},
   "outputs": [],
   "source": [
    "def landmarks_to_df(landmarks, df=None, target=None):\n",
    "    \n",
    "    # Переводим в привычный словарь\n",
    "    landmarks = MessageToDict(landmarks[0])['landmark']\n",
    "    \n",
    "    # Заполняем списки с координатами\n",
    "    x = np.empty(len(landmarks))\n",
    "    y = np.empty(len(landmarks))\n",
    "    z = np.empty(len(landmarks))\n",
    "    \n",
    "    for i, v in enumerate(landmarks):\n",
    "        x[i] = v['x']\n",
    "        y[i] = v['y']\n",
    "        z[i] = v['z']\n",
    "    \n",
    "    # Масшабируем координаты, чтобы не имело значения, в какой\n",
    "    # области кадра наш жест\n",
    "    scaler = MinMaxScaler()\n",
    "    x = scaler.fit_transform(x.reshape(-1, 1)).reshape(1, -1)\n",
    "    y = scaler.fit_transform(y.reshape(-1, 1)).reshape(1, -1)\n",
    "    z = scaler.fit_transform(z.reshape(-1, 1)).reshape(1, -1)\n",
    "    \n",
    "    # Подготавливаем и возвращаем датасет\n",
    "    if target is not None:\n",
    "        features = np.c_[x, y, z, target]\n",
    "    else:\n",
    "        features = np.c_[x, y, z]\n",
    "    \n",
    "    if df is not None:\n",
    "        df = pd.concat((df, pd.DataFrame(features)), axis=0)\n",
    "    else:\n",
    "        df = pd.DataFrame(features)\n",
    "    \n",
    "    return df"
   ]
  },
  {
   "cell_type": "markdown",
   "id": "ad6c45f2-6de5-4c16-b533-face463ac869",
   "metadata": {},
   "source": [
    "Чтобы внести координаты особых точек в датафрейм, сначала нужно найти  \n",
    "эти точки. Для этого прогоняем все обучающие картинки через фреймворк,  \n",
    "а затем вносим их обработанные координаты в датафрейм. Также присваиваем  \n",
    "значения таргета жестам, где 3 целевых жеста получают свой класс, а  \n",
    "остальные 3 жеста получают нулевой класс. Картинки, где фреймфорк не  \n",
    "обнаружил жест, пропускаются."
   ]
  },
  {
   "cell_type": "code",
   "execution_count": 16,
   "id": "2c252772-40c7-49f2-a851-d4b29c8aa841",
   "metadata": {},
   "outputs": [],
   "source": [
    "mapping_dict = {'03': 1, '07': 2, '10': 3}\n",
    "df = pd.DataFrame()\n",
    "\n",
    "with mp_hands.Hands(max_num_hands=1, static_image_mode=True) as hands:\n",
    "    \n",
    "        for idx, file in enumerate(files):\n",
    "            image = cv2.imread(file)\n",
    "            results = hands.process(cv2.cvtColor(image, cv2.COLOR_BGR2RGB))\n",
    "\n",
    "            if not results.multi_hand_landmarks:\n",
    "                continue\n",
    "            \n",
    "            target = mapping_dict.get(re.findall('frame_\\d{2}_(\\d{2})', file)[0], 0)\n",
    "            df = landmarks_to_df(results.multi_hand_landmarks, df, target)"
   ]
  },
  {
   "cell_type": "markdown",
   "id": "58210491-0e77-4381-8462-648d182d44dd",
   "metadata": {},
   "source": [
    "Посмотрим на получившийся датафрейм:"
   ]
  },
  {
   "cell_type": "code",
   "execution_count": 17,
   "id": "a84b2e1c-1737-4168-8d0d-6a1fa7e07411",
   "metadata": {},
   "outputs": [
    {
     "data": {
      "text/html": [
       "<div>\n",
       "<style scoped>\n",
       "    .dataframe tbody tr th:only-of-type {\n",
       "        vertical-align: middle;\n",
       "    }\n",
       "\n",
       "    .dataframe tbody tr th {\n",
       "        vertical-align: top;\n",
       "    }\n",
       "\n",
       "    .dataframe thead th {\n",
       "        text-align: right;\n",
       "    }\n",
       "</style>\n",
       "<table border=\"1\" class=\"dataframe\">\n",
       "  <thead>\n",
       "    <tr style=\"text-align: right;\">\n",
       "      <th></th>\n",
       "      <th>0</th>\n",
       "      <th>1</th>\n",
       "      <th>2</th>\n",
       "      <th>3</th>\n",
       "      <th>4</th>\n",
       "      <th>5</th>\n",
       "      <th>6</th>\n",
       "      <th>7</th>\n",
       "      <th>8</th>\n",
       "      <th>9</th>\n",
       "      <th>...</th>\n",
       "      <th>54</th>\n",
       "      <th>55</th>\n",
       "      <th>56</th>\n",
       "      <th>57</th>\n",
       "      <th>58</th>\n",
       "      <th>59</th>\n",
       "      <th>60</th>\n",
       "      <th>61</th>\n",
       "      <th>62</th>\n",
       "      <th>63</th>\n",
       "    </tr>\n",
       "  </thead>\n",
       "  <tbody>\n",
       "    <tr>\n",
       "      <th>0</th>\n",
       "      <td>0.000000</td>\n",
       "      <td>0.311541</td>\n",
       "      <td>0.512761</td>\n",
       "      <td>0.681499</td>\n",
       "      <td>0.850143</td>\n",
       "      <td>0.422335</td>\n",
       "      <td>0.632079</td>\n",
       "      <td>0.779927</td>\n",
       "      <td>0.878924</td>\n",
       "      <td>0.357095</td>\n",
       "      <td>...</td>\n",
       "      <td>0.706946</td>\n",
       "      <td>0.616383</td>\n",
       "      <td>0.509567</td>\n",
       "      <td>0.362676</td>\n",
       "      <td>0.263579</td>\n",
       "      <td>0.406593</td>\n",
       "      <td>0.224233</td>\n",
       "      <td>0.091495</td>\n",
       "      <td>0.00000</td>\n",
       "      <td>2.0</td>\n",
       "    </tr>\n",
       "    <tr>\n",
       "      <th>0</th>\n",
       "      <td>0.048491</td>\n",
       "      <td>0.000000</td>\n",
       "      <td>0.065394</td>\n",
       "      <td>0.132109</td>\n",
       "      <td>0.145065</td>\n",
       "      <td>0.358238</td>\n",
       "      <td>0.431868</td>\n",
       "      <td>0.447997</td>\n",
       "      <td>0.413534</td>\n",
       "      <td>0.451846</td>\n",
       "      <td>...</td>\n",
       "      <td>0.945124</td>\n",
       "      <td>0.995335</td>\n",
       "      <td>0.934495</td>\n",
       "      <td>0.892546</td>\n",
       "      <td>0.888900</td>\n",
       "      <td>0.947669</td>\n",
       "      <td>0.932828</td>\n",
       "      <td>0.914559</td>\n",
       "      <td>0.90442</td>\n",
       "      <td>2.0</td>\n",
       "    </tr>\n",
       "    <tr>\n",
       "      <th>0</th>\n",
       "      <td>0.000000</td>\n",
       "      <td>0.338170</td>\n",
       "      <td>0.574525</td>\n",
       "      <td>0.754217</td>\n",
       "      <td>0.924684</td>\n",
       "      <td>0.471106</td>\n",
       "      <td>0.711755</td>\n",
       "      <td>0.867982</td>\n",
       "      <td>0.969665</td>\n",
       "      <td>0.390790</td>\n",
       "      <td>...</td>\n",
       "      <td>0.666939</td>\n",
       "      <td>0.590660</td>\n",
       "      <td>0.502993</td>\n",
       "      <td>0.345904</td>\n",
       "      <td>0.228920</td>\n",
       "      <td>0.359374</td>\n",
       "      <td>0.198525</td>\n",
       "      <td>0.084720</td>\n",
       "      <td>0.00000</td>\n",
       "      <td>2.0</td>\n",
       "    </tr>\n",
       "    <tr>\n",
       "      <th>0</th>\n",
       "      <td>0.000000</td>\n",
       "      <td>0.295899</td>\n",
       "      <td>0.508655</td>\n",
       "      <td>0.670603</td>\n",
       "      <td>0.823677</td>\n",
       "      <td>0.426636</td>\n",
       "      <td>0.641877</td>\n",
       "      <td>0.784661</td>\n",
       "      <td>0.879639</td>\n",
       "      <td>0.368422</td>\n",
       "      <td>...</td>\n",
       "      <td>0.679757</td>\n",
       "      <td>0.536571</td>\n",
       "      <td>0.455862</td>\n",
       "      <td>0.334093</td>\n",
       "      <td>0.245186</td>\n",
       "      <td>0.299947</td>\n",
       "      <td>0.160995</td>\n",
       "      <td>0.069313</td>\n",
       "      <td>0.00000</td>\n",
       "      <td>2.0</td>\n",
       "    </tr>\n",
       "    <tr>\n",
       "      <th>0</th>\n",
       "      <td>0.000000</td>\n",
       "      <td>0.324373</td>\n",
       "      <td>0.567884</td>\n",
       "      <td>0.759133</td>\n",
       "      <td>0.927048</td>\n",
       "      <td>0.475913</td>\n",
       "      <td>0.716733</td>\n",
       "      <td>0.868789</td>\n",
       "      <td>0.969522</td>\n",
       "      <td>0.392026</td>\n",
       "      <td>...</td>\n",
       "      <td>0.600458</td>\n",
       "      <td>0.593749</td>\n",
       "      <td>0.476638</td>\n",
       "      <td>0.297750</td>\n",
       "      <td>0.169646</td>\n",
       "      <td>0.369482</td>\n",
       "      <td>0.191877</td>\n",
       "      <td>0.080038</td>\n",
       "      <td>0.00000</td>\n",
       "      <td>2.0</td>\n",
       "    </tr>\n",
       "  </tbody>\n",
       "</table>\n",
       "<p>5 rows × 64 columns</p>\n",
       "</div>"
      ],
      "text/plain": [
       "         0         1         2         3         4         5         6   \\\n",
       "0  0.000000  0.311541  0.512761  0.681499  0.850143  0.422335  0.632079   \n",
       "0  0.048491  0.000000  0.065394  0.132109  0.145065  0.358238  0.431868   \n",
       "0  0.000000  0.338170  0.574525  0.754217  0.924684  0.471106  0.711755   \n",
       "0  0.000000  0.295899  0.508655  0.670603  0.823677  0.426636  0.641877   \n",
       "0  0.000000  0.324373  0.567884  0.759133  0.927048  0.475913  0.716733   \n",
       "\n",
       "         7         8         9   ...        54        55        56        57  \\\n",
       "0  0.779927  0.878924  0.357095  ...  0.706946  0.616383  0.509567  0.362676   \n",
       "0  0.447997  0.413534  0.451846  ...  0.945124  0.995335  0.934495  0.892546   \n",
       "0  0.867982  0.969665  0.390790  ...  0.666939  0.590660  0.502993  0.345904   \n",
       "0  0.784661  0.879639  0.368422  ...  0.679757  0.536571  0.455862  0.334093   \n",
       "0  0.868789  0.969522  0.392026  ...  0.600458  0.593749  0.476638  0.297750   \n",
       "\n",
       "         58        59        60        61       62   63  \n",
       "0  0.263579  0.406593  0.224233  0.091495  0.00000  2.0  \n",
       "0  0.888900  0.947669  0.932828  0.914559  0.90442  2.0  \n",
       "0  0.228920  0.359374  0.198525  0.084720  0.00000  2.0  \n",
       "0  0.245186  0.299947  0.160995  0.069313  0.00000  2.0  \n",
       "0  0.169646  0.369482  0.191877  0.080038  0.00000  2.0  \n",
       "\n",
       "[5 rows x 64 columns]"
      ]
     },
     "execution_count": 17,
     "metadata": {},
     "output_type": "execute_result"
    }
   ],
   "source": [
    "df.head()"
   ]
  },
  {
   "cell_type": "code",
   "execution_count": 18,
   "id": "7c6654a6-40e3-4eb0-876b-b5cd410955d0",
   "metadata": {},
   "outputs": [
    {
     "data": {
      "text/plain": [
       "(5878, 64)"
      ]
     },
     "execution_count": 18,
     "metadata": {},
     "output_type": "execute_result"
    }
   ],
   "source": [
    "df.shape"
   ]
  },
  {
   "cell_type": "code",
   "execution_count": 20,
   "id": "e39de450-a0c2-4f7e-a5c0-bc53316b5c6a",
   "metadata": {},
   "outputs": [
    {
     "data": {
      "text/plain": [
       "0.0    2579\n",
       "2.0    1610\n",
       "3.0    1169\n",
       "1.0     520\n",
       "Name: 63, dtype: int64"
      ]
     },
     "execution_count": 20,
     "metadata": {},
     "output_type": "execute_result"
    }
   ],
   "source": [
    "df[63].value_counts()"
   ]
  },
  {
   "cell_type": "markdown",
   "id": "796fe464-b1fd-4e46-afa5-f3c731f0f786",
   "metadata": {},
   "source": [
    "Баланс классов удовлетворительный, сохраним датасет:"
   ]
  },
  {
   "cell_type": "code",
   "execution_count": 19,
   "id": "31b29700-2ba8-4f42-958a-05a6e090584b",
   "metadata": {},
   "outputs": [],
   "source": [
    "df.to_csv('./data.csv', index=False)"
   ]
  },
  {
   "cell_type": "markdown",
   "id": "dbae4cf5-3c71-4925-aa3e-6ec9e920e0cf",
   "metadata": {},
   "source": [
    "Ячейка для загрузки датасета из файла:"
   ]
  },
  {
   "cell_type": "code",
   "execution_count": 5,
   "id": "e071e235-4878-491a-a0ab-bfab37a63a81",
   "metadata": {},
   "outputs": [],
   "source": [
    "# df = pd.read_csv('./data.csv')\n",
    "# df.columns = df.columns.astype(int)"
   ]
  },
  {
   "cell_type": "markdown",
   "id": "cd03a40b-560b-4a90-a49f-65da3738bd68",
   "metadata": {},
   "source": [
    "Разделим данные на обучающую и тестовую выборки, сделаем  \n",
    "стратификацию по таргету:"
   ]
  },
  {
   "cell_type": "code",
   "execution_count": 6,
   "id": "b2afc298-61ef-415c-822c-9d77eaedf169",
   "metadata": {},
   "outputs": [],
   "source": [
    "X_train, X_test, y_train, y_test = train_test_split(df.iloc[:, :-1], df.iloc[:, -1], test_size=0.2, stratify=df[63], random_state=29)"
   ]
  },
  {
   "cell_type": "markdown",
   "id": "4dff96dc-bb97-4304-9c5f-9b6dbe4b19b0",
   "metadata": {},
   "source": [
    "Обучим логистическую регрессию:"
   ]
  },
  {
   "cell_type": "code",
   "execution_count": 7,
   "id": "aebfb252-3223-41a4-8216-37150f9fb144",
   "metadata": {},
   "outputs": [],
   "source": [
    "model = LogisticRegression(max_iter=400)\n",
    "model.fit(X_train, y_train)\n",
    "preds = model.predict(X_test)"
   ]
  },
  {
   "cell_type": "markdown",
   "id": "bf5d56a6-8a43-4ada-bafb-8e91d1e13223",
   "metadata": {},
   "source": [
    "Посмотрим на метрики:"
   ]
  },
  {
   "cell_type": "code",
   "execution_count": 8,
   "id": "b98f863f-adf0-4b24-9189-c519fda01ae1",
   "metadata": {},
   "outputs": [
    {
     "name": "stdout",
     "output_type": "stream",
     "text": [
      "              precision    recall  f1-score   support\n",
      "\n",
      "         0.0       0.98      0.98      0.98       516\n",
      "         1.0       0.94      0.95      0.95       104\n",
      "         2.0       0.99      1.00      1.00       322\n",
      "         3.0       0.99      0.97      0.98       234\n",
      "\n",
      "    accuracy                           0.98      1176\n",
      "   macro avg       0.98      0.98      0.98      1176\n",
      "weighted avg       0.98      0.98      0.98      1176\n",
      "\n"
     ]
    }
   ],
   "source": [
    "print(classification_report(y_test, preds))"
   ]
  },
  {
   "cell_type": "markdown",
   "id": "a9d8769b-b7c5-4d30-b0a9-e149ec9e8cf3",
   "metadata": {},
   "source": [
    "Модель очень хорошо научилась разделять классы.  \n",
    "Перед использованием заново обучим её на всём датасете:"
   ]
  },
  {
   "cell_type": "code",
   "execution_count": 9,
   "id": "4f1ade54-f4a9-4ea0-9863-04f62777c36c",
   "metadata": {},
   "outputs": [],
   "source": [
    "model.fit(df.iloc[:, :-1], df.iloc[:, -1]);"
   ]
  },
  {
   "cell_type": "markdown",
   "id": "77d525c2-8793-4460-848a-9ce0bcde8145",
   "metadata": {},
   "source": [
    "Теперь у нас есть всё для работы программы. Будем брать изображение  \n",
    "с веб-камеры и детектировать на нём лицо. Если лицо не обнаружено, то  \n",
    "выводится соответствующее сообщение. Если обнаружено, то производится  \n",
    "поиск жеста. При обнаружении жеста, координаты особых точек передаются  \n",
    "модели классификации, и, в зависимости от жеста, на экран выводится  \n",
    "соответствующее сообщение."
   ]
  },
  {
   "cell_type": "code",
   "execution_count": 11,
   "id": "c2d8ab51-24ae-49a1-9724-31ba48591260",
   "metadata": {},
   "outputs": [],
   "source": [
    "cap = cv2.VideoCapture(0)\n",
    "\n",
    "with mp_face_detection.FaceDetection() as face_detection:\n",
    "    with mp_hands.Hands(max_num_hands=1) as hands:\n",
    "        while cap.isOpened():\n",
    "            success, image = cap.read()\n",
    "            if not success:\n",
    "                print('Ignoring empty camera frame.')\n",
    "                continue\n",
    "\n",
    "            image = cv2.cvtColor(image, cv2.COLOR_BGR2RGB)\n",
    "            results = face_detection.process(image)\n",
    "            \n",
    "            # Несмотря на наличие параметра min_detection_confidence у FaceDetection(), он,  \n",
    "            # похоже, не работает. Поэтому зададим порог уверенности вручную (0,85), чтобы  \n",
    "            # избежать ложных срабатываний детектирования лица\n",
    "            if results.detections and MessageToDict(results.detections[0])['score'][0] > 0.85:\n",
    "                \n",
    "                results = hands.process(image)\n",
    "                \n",
    "                if results.multi_hand_landmarks:\n",
    "                    gesture = model.predict_proba(landmarks_to_df(results.multi_hand_landmarks))[0]\n",
    "                    \n",
    "                    if max(gesture) > 0.5:\n",
    "                        gesture = np.argmax(gesture)\n",
    "                        \n",
    "                        match gesture:\n",
    "                            case 0:\n",
    "                                text = 'Unknown sign!'\n",
    "                            case 1:\n",
    "                                text = 'Hello!'\n",
    "                            case 2:\n",
    "                                text = 'OK!'\n",
    "                            case 3:\n",
    "                                text = 'Scary!'\n",
    "                    \n",
    "                    # Если модель не уверена во всех классах, но фреймворк всё равно находит жест,\n",
    "                    # на экран будет выводиться сообщение\n",
    "                    else:\n",
    "                        text = 'Is it a sign?'\n",
    "            \n",
    "                \n",
    "                    cv2.putText(image, text, (170, 50),\n",
    "                                cv2.FONT_HERSHEY_COMPLEX,\n",
    "                                1.3, (0, 0, 255), 2)\n",
    "            \n",
    "            else:\n",
    "                cv2.putText(image, 'Is anyone here?', (170, 50),\n",
    "                            cv2.FONT_HERSHEY_COMPLEX,\n",
    "                            1.3, (0, 0, 255), 2)\n",
    "            \n",
    "            image = cv2.cvtColor(image, cv2.COLOR_RGB2BGR)\n",
    "            cv2.imshow('MediaPipe Hands', image)\n",
    "            if cv2.waitKey(5) & 0xFF == 27:\n",
    "                break\n",
    "\n",
    "cap.release()\n",
    "cv2.destroyAllWindows()"
   ]
  }
 ],
 "metadata": {
  "kernelspec": {
   "display_name": "Python 3 (ipykernel)",
   "language": "python",
   "name": "python3"
  },
  "language_info": {
   "codemirror_mode": {
    "name": "ipython",
    "version": 3
   },
   "file_extension": ".py",
   "mimetype": "text/x-python",
   "name": "python",
   "nbconvert_exporter": "python",
   "pygments_lexer": "ipython3",
   "version": "3.10.7"
  }
 },
 "nbformat": 4,
 "nbformat_minor": 5
}
