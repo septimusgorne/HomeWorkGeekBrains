{
 "cells": [
  {
   "cell_type": "markdown",
   "metadata": {},
   "source": [
    "# Урок 1. Основные понятия и структуры PyTorch\n",
    "\n",
    "- Создайте случайный FloatTensor размера 3x4x5\n",
    "- Выведите его форму (shape)\n",
    "- Приведите его к форме 6х10\n",
    "- Создайте случайный IntTensor размера 10\n",
    "- Умножьте созданный FloatTensor на созданный IntTensor поэлементно\n",
    "- Умножьте тензор матрично на себя, чтобы результат был размерности 6x6 Подсказка: .dot может не подойти\n",
    "- Посчитайте производную функции y = x**3 + z - 75t в точке (1, 0.5, 2)\n",
    "- Создайте единичный тензор размера 5x6\n",
    "- Переведите его в формат numpy"
   ]
  },
  {
   "cell_type": "code",
   "execution_count": 1,
   "metadata": {},
   "outputs": [],
   "source": [
    "import torch"
   ]
  },
  {
   "cell_type": "code",
   "execution_count": 2,
   "metadata": {},
   "outputs": [],
   "source": [
    "# Создайте случайный FloatTensor размера 3x4x5"
   ]
  },
  {
   "cell_type": "code",
   "execution_count": 3,
   "metadata": {},
   "outputs": [
    {
     "data": {
      "text/plain": [
       "tensor([[[-1.0213,  1.2186, -0.8315, -0.0614, -0.2352],\n",
       "         [ 1.7629, -1.4459, -1.6042,  0.8479,  0.6779],\n",
       "         [-0.0191, -0.7755,  1.9118,  2.3433,  0.4388],\n",
       "         [-0.8338,  0.2255,  1.2231,  0.2390, -0.3577]],\n",
       "\n",
       "        [[ 0.9439,  1.2482,  0.7746,  2.3472, -0.6944],\n",
       "         [-1.6561,  1.8975, -0.9142,  0.0350, -1.1759],\n",
       "         [ 0.1603,  1.1399, -1.0824, -0.6283, -0.1768],\n",
       "         [-0.8398, -0.0762, -0.6822,  0.7288,  0.6056]],\n",
       "\n",
       "        [[-1.0635,  1.2662, -1.6779,  0.7147, -0.4118],\n",
       "         [-0.3750, -0.6639, -0.5470,  0.7468, -0.7304],\n",
       "         [-0.2473,  0.3452,  0.8080,  0.2862, -0.8162],\n",
       "         [ 0.4143, -1.4811, -0.6284,  0.3708, -1.5943]]])"
      ]
     },
     "execution_count": 3,
     "metadata": {},
     "output_type": "execute_result"
    }
   ],
   "source": [
    "t = torch.randn(3, 4, 5)\n",
    "t"
   ]
  },
  {
   "cell_type": "code",
   "execution_count": 4,
   "metadata": {},
   "outputs": [],
   "source": [
    "# Выведите его форму (shape)"
   ]
  },
  {
   "cell_type": "code",
   "execution_count": 5,
   "metadata": {},
   "outputs": [
    {
     "data": {
      "text/plain": [
       "torch.Size([3, 4, 5])"
      ]
     },
     "execution_count": 5,
     "metadata": {},
     "output_type": "execute_result"
    }
   ],
   "source": [
    "t.shape"
   ]
  },
  {
   "cell_type": "code",
   "execution_count": 6,
   "metadata": {},
   "outputs": [],
   "source": [
    "# Приведите его к форме 6 X 10"
   ]
  },
  {
   "cell_type": "code",
   "execution_count": 7,
   "metadata": {},
   "outputs": [
    {
     "data": {
      "text/plain": [
       "tensor([[-1.0213,  1.2186, -0.8315, -0.0614, -0.2352,  1.7629, -1.4459, -1.6042,\n",
       "          0.8479,  0.6779],\n",
       "        [-0.0191, -0.7755,  1.9118,  2.3433,  0.4388, -0.8338,  0.2255,  1.2231,\n",
       "          0.2390, -0.3577],\n",
       "        [ 0.9439,  1.2482,  0.7746,  2.3472, -0.6944, -1.6561,  1.8975, -0.9142,\n",
       "          0.0350, -1.1759],\n",
       "        [ 0.1603,  1.1399, -1.0824, -0.6283, -0.1768, -0.8398, -0.0762, -0.6822,\n",
       "          0.7288,  0.6056],\n",
       "        [-1.0635,  1.2662, -1.6779,  0.7147, -0.4118, -0.3750, -0.6639, -0.5470,\n",
       "          0.7468, -0.7304],\n",
       "        [-0.2473,  0.3452,  0.8080,  0.2862, -0.8162,  0.4143, -1.4811, -0.6284,\n",
       "          0.3708, -1.5943]])"
      ]
     },
     "execution_count": 7,
     "metadata": {},
     "output_type": "execute_result"
    }
   ],
   "source": [
    "t = t.view(6, 10)\n",
    "t"
   ]
  },
  {
   "cell_type": "code",
   "execution_count": 8,
   "metadata": {},
   "outputs": [],
   "source": [
    "# Создайте случайный IntTensor размера 10"
   ]
  },
  {
   "cell_type": "code",
   "execution_count": 9,
   "metadata": {},
   "outputs": [
    {
     "data": {
      "text/plain": [
       "tensor([0, 0, 0, 0, 1, 0, 0, 0, 0, 0], dtype=torch.int32)"
      ]
     },
     "execution_count": 9,
     "metadata": {},
     "output_type": "execute_result"
    }
   ],
   "source": [
    "torch.IntTensor(10)"
   ]
  },
  {
   "cell_type": "code",
   "execution_count": 10,
   "metadata": {},
   "outputs": [],
   "source": [
    "# Умножьте тензор матрично на себя, чтобы результат был размерности 6x6 Подсказка: .dot может не подойти"
   ]
  },
  {
   "cell_type": "code",
   "execution_count": 11,
   "metadata": {},
   "outputs": [
    {
     "data": {
      "text/plain": [
       "tensor([[12.2291, -6.5601, -5.0318,  2.9582,  5.3918,  3.2893],\n",
       "        [-6.5601, 12.3673,  6.8101, -4.7001, -2.7418,  0.8051],\n",
       "        [-5.0318,  6.8101, 17.6036,  0.5668,  1.9870,  1.0277],\n",
       "        [ 2.9582, -4.7001,  0.5668,  4.9971,  3.5535, -1.0579],\n",
       "        [ 5.3918, -2.7418,  1.9870,  3.5535,  8.2020,  2.4981],\n",
       "        [ 3.2893,  0.8051,  1.0277, -1.0579,  2.4981,  7.0207]])"
      ]
     },
     "execution_count": 11,
     "metadata": {},
     "output_type": "execute_result"
    }
   ],
   "source": [
    "t = t.matmul(t.t())\n",
    "t"
   ]
  },
  {
   "cell_type": "code",
   "execution_count": 12,
   "metadata": {},
   "outputs": [],
   "source": [
    "# Посчитайте производную функции y = x**3 + z - 75t в точке (1, 0.5, 2)"
   ]
  },
  {
   "cell_type": "code",
   "execution_count": 13,
   "metadata": {},
   "outputs": [
    {
     "name": "stdout",
     "output_type": "stream",
     "text": [
      "d(y)/d(x) = 3.0\n",
      "d(y)/d(z) = 1.0\n",
      "d(y)/d(t) = -75.0\n"
     ]
    }
   ],
   "source": [
    "x = torch.tensor([1.], requires_grad=True)\n",
    "z = torch.tensor([0.5], requires_grad=True)\n",
    "t = torch.tensor([2.], requires_grad=True)\n",
    "\n",
    "y = x**3 + z - 75*t\n",
    "y.backward()\n",
    "\n",
    "print('d(y)/d(x) =', x.grad.item())\n",
    "print('d(y)/d(z) =', z.grad.item())\n",
    "print('d(y)/d(t) =', t.grad.item())\n"
   ]
  },
  {
   "cell_type": "code",
   "execution_count": 14,
   "metadata": {},
   "outputs": [],
   "source": [
    "# Создайте единичный тензор размера 5x6"
   ]
  },
  {
   "cell_type": "code",
   "execution_count": 15,
   "metadata": {},
   "outputs": [
    {
     "data": {
      "text/plain": [
       "tensor([[1., 0., 0., 0., 0., 0.],\n",
       "        [0., 1., 0., 0., 0., 0.],\n",
       "        [0., 0., 1., 0., 0., 0.],\n",
       "        [0., 0., 0., 1., 0., 0.],\n",
       "        [0., 0., 0., 0., 1., 0.]])"
      ]
     },
     "execution_count": 15,
     "metadata": {},
     "output_type": "execute_result"
    }
   ],
   "source": [
    "t = torch.eye(5, 6)\n",
    "t"
   ]
  },
  {
   "cell_type": "code",
   "execution_count": 16,
   "metadata": {},
   "outputs": [],
   "source": [
    "# Переведите его в формат numpy"
   ]
  },
  {
   "cell_type": "code",
   "execution_count": 17,
   "metadata": {},
   "outputs": [
    {
     "data": {
      "text/plain": [
       "array([[1., 0., 0., 0., 0., 0.],\n",
       "       [0., 1., 0., 0., 0., 0.],\n",
       "       [0., 0., 1., 0., 0., 0.],\n",
       "       [0., 0., 0., 1., 0., 0.],\n",
       "       [0., 0., 0., 0., 1., 0.]], dtype=float32)"
      ]
     },
     "execution_count": 17,
     "metadata": {},
     "output_type": "execute_result"
    }
   ],
   "source": [
    "t.numpy()"
   ]
  }
 ],
 "metadata": {
  "kernelspec": {
   "display_name": "Python 3 (ipykernel)",
   "language": "python",
   "name": "python3"
  },
  "language_info": {
   "codemirror_mode": {
    "name": "ipython",
    "version": 3
   },
   "file_extension": ".py",
   "mimetype": "text/x-python",
   "name": "python",
   "nbconvert_exporter": "python",
   "pygments_lexer": "ipython3",
   "version": "3.9.2"
  }
 },
 "nbformat": 4,
 "nbformat_minor": 4
}
